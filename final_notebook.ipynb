{
 "cells": [
  {
   "cell_type": "markdown",
   "id": "loving-violation",
   "metadata": {},
   "source": [
    "<div style=\"text-align: right\">\n",
    "<pre>\n",
    "Name    : Lucas Nelson \n",
    "netID   : lln2         \n",
    "Section : E3           \n",
    "</pre>\n",
    "</div>\n",
    "\n",
    "\n",
    "# FP05: Final Report\n",
    "#### Table of Contents\n",
    "* [Exploratory Data Analysis](#Exploratory-Data-Analysis)\n",
    "    * [Data Preparation](#Data-Preparation)\n",
    "    * [Visualizations](#Visualizations)\n",
    "* [Inference](#Inference)\n",
    "    * [Elastic Net](#Elastic-Net)\n",
    "    * [statsmodel.api](#statsmodel.api)\n",
    "* [Prediction](#Prediction)\n",
    "    * [Null Model](#Null-Model)\n",
    "    * [AdaBoost Model](#AdaBoost-Model)\n",
    "    * [Gradient Boosting Model](#Gradient-Boosting-Model)\n",
    "    * [Extreme Gradient Boosting Model](#Extreme-Gradient-Boosting-Model)\n"
   ]
  },
  {
   "cell_type": "code",
   "execution_count": 1,
   "id": "italic-stations",
   "metadata": {},
   "outputs": [],
   "source": [
    "# df functionality\n",
    "import numpy as np\n",
    "import pandas as pd\n",
    "\n",
    "# plotting\n",
    "import matplotlib.pyplot as plt\n",
    "import seaborn as sns\n",
    "\n",
    "# linear regression\n",
    "import statsmodels.api as sm\n",
    "import statsmodels.formula.api as smf\n",
    "from sklearn.linear_model import LinearRegression\n",
    "from sklearn.model_selection import train_test_split\n",
    "from sklearn.metrics import mean_squared_error\n",
    "\n",
    "# elastic net\n",
    "from sklearn.model_selection import GridSearchCV, train_test_split\n",
    "from sklearn import linear_model as lm\n",
    "\n",
    "# boosters\n",
    "from sklearn.tree import DecisionTreeRegressor\n",
    "from sklearn.ensemble import AdaBoostRegressor, GradientBoostingRegressor\n",
    "import xgboost as xgb"
   ]
  },
  {
   "cell_type": "code",
   "execution_count": 2,
   "id": "associate-mystery",
   "metadata": {},
   "outputs": [],
   "source": [
    "def rmse(y, yhat):\n",
    "    return np.sqrt(np.mean((y - yhat) ** 2))\n",
    "\n",
    "sns.set(rc = {'figure.figsize': (16, 9),\n",
    "              'xtick.labelsize': 14,\n",
    "              'ytick.labelsize': 14,\n",
    "              'axes.titlesize': 26,\n",
    "              'axes.labelsize': 22})"
   ]
  },
  {
   "cell_type": "markdown",
   "id": "suspected-patrick",
   "metadata": {},
   "source": [
    "---\n",
    "## Exploratory Data Analysis\n",
    "Gathering data for this project was relatively simple: select data from IPUMS Higher Educational library that could help me answer my question. Using recent college graduate survey data from 1993 to 2013, I obtained a dataset of 655,241 observations across an array of 28 features.\n",
    "\n",
    "After finishing data wrangling and data cleaning, the final dataframe I have gathered (`highed`) contains 128,715 observations across 24 covariates, most of which are demographic (`age`, `usctz`, `gender`), educational/occupational (`bach_econ`, `high_mast`, `ocedrlp`), and economic (`urate`, `lfp`, `cpi2009c`) data."
   ]
  },
  {
   "cell_type": "code",
   "execution_count": 3,
   "id": "israeli-catalyst",
   "metadata": {},
   "outputs": [],
   "source": [
    "highed = pd.read_pickle('/Users/lucasnelson/Desktop/University of Illinois/Junior/SP21/ECON 490/proj_final/highed_prepped_pickle.pkl')"
   ]
  },
  {
   "cell_type": "code",
   "execution_count": 4,
   "id": "sunset-authority",
   "metadata": {},
   "outputs": [
    {
     "data": {
      "text/html": [
       "<div>\n",
       "<style scoped>\n",
       "    .dataframe tbody tr th:only-of-type {\n",
       "        vertical-align: middle;\n",
       "    }\n",
       "\n",
       "    .dataframe tbody tr th {\n",
       "        vertical-align: top;\n",
       "    }\n",
       "\n",
       "    .dataframe thead th {\n",
       "        text-align: right;\n",
       "    }\n",
       "</style>\n",
       "<table border=\"1\" class=\"dataframe\">\n",
       "  <thead>\n",
       "    <tr style=\"text-align: right;\">\n",
       "      <th></th>\n",
       "      <th>year</th>\n",
       "      <th>weight</th>\n",
       "      <th>age</th>\n",
       "      <th>biryr</th>\n",
       "      <th>gender</th>\n",
       "      <th>usctz</th>\n",
       "      <th>ocedrlp</th>\n",
       "      <th>salary</th>\n",
       "      <th>cpi2009c</th>\n",
       "      <th>urate</th>\n",
       "      <th>...</th>\n",
       "      <th>high_mast</th>\n",
       "      <th>high_phdd</th>\n",
       "      <th>high_prof</th>\n",
       "      <th>bach_csci</th>\n",
       "      <th>bach_ssci</th>\n",
       "      <th>bach_econ</th>\n",
       "      <th>bach_scnc</th>\n",
       "      <th>bach_engr</th>\n",
       "      <th>bach_mgmt</th>\n",
       "      <th>income_2009</th>\n",
       "    </tr>\n",
       "  </thead>\n",
       "  <tbody>\n",
       "    <tr>\n",
       "      <th>0</th>\n",
       "      <td>1993</td>\n",
       "      <td>436.3180</td>\n",
       "      <td>28</td>\n",
       "      <td>1965</td>\n",
       "      <td>0</td>\n",
       "      <td>1</td>\n",
       "      <td>2</td>\n",
       "      <td>30000</td>\n",
       "      <td>1.485</td>\n",
       "      <td>6.908333</td>\n",
       "      <td>...</td>\n",
       "      <td>0</td>\n",
       "      <td>0</td>\n",
       "      <td>0</td>\n",
       "      <td>0</td>\n",
       "      <td>0</td>\n",
       "      <td>0</td>\n",
       "      <td>0</td>\n",
       "      <td>0</td>\n",
       "      <td>1</td>\n",
       "      <td>44550.0</td>\n",
       "    </tr>\n",
       "    <tr>\n",
       "      <th>1</th>\n",
       "      <td>1993</td>\n",
       "      <td>145.5788</td>\n",
       "      <td>28</td>\n",
       "      <td>1965</td>\n",
       "      <td>0</td>\n",
       "      <td>1</td>\n",
       "      <td>2</td>\n",
       "      <td>41000</td>\n",
       "      <td>1.485</td>\n",
       "      <td>6.908333</td>\n",
       "      <td>...</td>\n",
       "      <td>1</td>\n",
       "      <td>0</td>\n",
       "      <td>0</td>\n",
       "      <td>0</td>\n",
       "      <td>0</td>\n",
       "      <td>0</td>\n",
       "      <td>0</td>\n",
       "      <td>0</td>\n",
       "      <td>0</td>\n",
       "      <td>60885.0</td>\n",
       "    </tr>\n",
       "    <tr>\n",
       "      <th>2</th>\n",
       "      <td>1993</td>\n",
       "      <td>72.4603</td>\n",
       "      <td>28</td>\n",
       "      <td>1965</td>\n",
       "      <td>1</td>\n",
       "      <td>1</td>\n",
       "      <td>2</td>\n",
       "      <td>44000</td>\n",
       "      <td>1.485</td>\n",
       "      <td>6.908333</td>\n",
       "      <td>...</td>\n",
       "      <td>0</td>\n",
       "      <td>0</td>\n",
       "      <td>0</td>\n",
       "      <td>1</td>\n",
       "      <td>0</td>\n",
       "      <td>0</td>\n",
       "      <td>0</td>\n",
       "      <td>0</td>\n",
       "      <td>0</td>\n",
       "      <td>65340.0</td>\n",
       "    </tr>\n",
       "    <tr>\n",
       "      <th>3</th>\n",
       "      <td>1993</td>\n",
       "      <td>69.6265</td>\n",
       "      <td>28</td>\n",
       "      <td>1965</td>\n",
       "      <td>0</td>\n",
       "      <td>1</td>\n",
       "      <td>1</td>\n",
       "      <td>38000</td>\n",
       "      <td>1.485</td>\n",
       "      <td>6.908333</td>\n",
       "      <td>...</td>\n",
       "      <td>0</td>\n",
       "      <td>0</td>\n",
       "      <td>0</td>\n",
       "      <td>0</td>\n",
       "      <td>0</td>\n",
       "      <td>0</td>\n",
       "      <td>0</td>\n",
       "      <td>1</td>\n",
       "      <td>0</td>\n",
       "      <td>56430.0</td>\n",
       "    </tr>\n",
       "    <tr>\n",
       "      <th>4</th>\n",
       "      <td>1993</td>\n",
       "      <td>436.3180</td>\n",
       "      <td>28</td>\n",
       "      <td>1965</td>\n",
       "      <td>0</td>\n",
       "      <td>1</td>\n",
       "      <td>0</td>\n",
       "      <td>19000</td>\n",
       "      <td>1.485</td>\n",
       "      <td>6.908333</td>\n",
       "      <td>...</td>\n",
       "      <td>0</td>\n",
       "      <td>0</td>\n",
       "      <td>0</td>\n",
       "      <td>0</td>\n",
       "      <td>0</td>\n",
       "      <td>0</td>\n",
       "      <td>0</td>\n",
       "      <td>0</td>\n",
       "      <td>0</td>\n",
       "      <td>28215.0</td>\n",
       "    </tr>\n",
       "  </tbody>\n",
       "</table>\n",
       "<p>5 rows × 24 columns</p>\n",
       "</div>"
      ],
      "text/plain": [
       "   year    weight  age  biryr  gender  usctz  ocedrlp  salary  cpi2009c  \\\n",
       "0  1993  436.3180   28   1965       0      1        2   30000     1.485   \n",
       "1  1993  145.5788   28   1965       0      1        2   41000     1.485   \n",
       "2  1993   72.4603   28   1965       1      1        2   44000     1.485   \n",
       "3  1993   69.6265   28   1965       0      1        1   38000     1.485   \n",
       "4  1993  436.3180   28   1965       0      1        0   19000     1.485   \n",
       "\n",
       "      urate  ...  high_mast  high_phdd  high_prof  bach_csci  bach_ssci  \\\n",
       "0  6.908333  ...          0          0          0          0          0   \n",
       "1  6.908333  ...          1          0          0          0          0   \n",
       "2  6.908333  ...          0          0          0          1          0   \n",
       "3  6.908333  ...          0          0          0          0          0   \n",
       "4  6.908333  ...          0          0          0          0          0   \n",
       "\n",
       "   bach_econ  bach_scnc  bach_engr  bach_mgmt  income_2009  \n",
       "0          0          0          0          1      44550.0  \n",
       "1          0          0          0          0      60885.0  \n",
       "2          0          0          0          0      65340.0  \n",
       "3          0          0          1          0      56430.0  \n",
       "4          0          0          0          0      28215.0  \n",
       "\n",
       "[5 rows x 24 columns]"
      ]
     },
     "execution_count": 4,
     "metadata": {},
     "output_type": "execute_result"
    }
   ],
   "source": [
    "highed.head()"
   ]
  },
  {
   "cell_type": "code",
   "execution_count": 5,
   "id": "extensive-rainbow",
   "metadata": {},
   "outputs": [
    {
     "name": "stdout",
     "output_type": "stream",
     "text": [
      "<class 'pandas.core.frame.DataFrame'>\n",
      "RangeIndex: 128715 entries, 0 to 128714\n",
      "Data columns (total 24 columns):\n",
      " #   Column       Non-Null Count   Dtype  \n",
      "---  ------       --------------   -----  \n",
      " 0   year         128715 non-null  int64  \n",
      " 1   weight       128715 non-null  float64\n",
      " 2   age          128715 non-null  int64  \n",
      " 3   biryr        128715 non-null  int64  \n",
      " 4   gender       128715 non-null  int64  \n",
      " 5   usctz        128715 non-null  int64  \n",
      " 6   ocedrlp      128715 non-null  int64  \n",
      " 7   salary       128715 non-null  int64  \n",
      " 8   cpi2009c     128715 non-null  float64\n",
      " 9   urate        128715 non-null  float64\n",
      " 10  lfp          128715 non-null  float64\n",
      " 11  lfp_delta    128715 non-null  float64\n",
      " 12  asian        128715 non-null  int64  \n",
      " 13  minority     128715 non-null  int64  \n",
      " 14  high_mast    128715 non-null  int64  \n",
      " 15  high_phdd    128715 non-null  int64  \n",
      " 16  high_prof    128715 non-null  int64  \n",
      " 17  bach_csci    128715 non-null  int64  \n",
      " 18  bach_ssci    128715 non-null  int64  \n",
      " 19  bach_econ    128715 non-null  int64  \n",
      " 20  bach_scnc    128715 non-null  int64  \n",
      " 21  bach_engr    128715 non-null  int64  \n",
      " 22  bach_mgmt    128715 non-null  int64  \n",
      " 23  income_2009  128715 non-null  float64\n",
      "dtypes: float64(6), int64(18)\n",
      "memory usage: 23.6 MB\n"
     ]
    }
   ],
   "source": [
    "highed.info()"
   ]
  },
  {
   "cell_type": "code",
   "execution_count": 6,
   "id": "removed-aging",
   "metadata": {},
   "outputs": [
    {
     "data": {
      "text/plain": [
       "(128715, 24)"
      ]
     },
     "execution_count": 6,
     "metadata": {},
     "output_type": "execute_result"
    }
   ],
   "source": [
    "highed.shape"
   ]
  },
  {
   "cell_type": "markdown",
   "id": "above-google",
   "metadata": {},
   "source": [
    "#### Visualizations"
   ]
  },
  {
   "cell_type": "code",
   "execution_count": 7,
   "id": "adaptive-score",
   "metadata": {},
   "outputs": [
    {
     "data": {
      "image/png": "[encoded data removed]",
      "text/plain": [
       "<Figure size 1152x648 with 1 Axes>"
      ]
     },
     "metadata": {},
     "output_type": "display_data"
    }
   ],
   "source": [
    "ax = sns.histplot(highed['income_2009'], bins=50)\n",
    "ax.set(xlabel='2009 Adjusted Income', ylabel='Count')\n",
    "plt.title('Distribution of Raw Salary Data')\n",
    "plt.show()"
   ]
  },
  {
   "cell_type": "code",
   "execution_count": 8,
   "id": "scientific-match",
   "metadata": {},
   "outputs": [
    {
     "data": {
      "image/png": "[encoded data removed]",
      "text/plain": [
       "<Figure size 1152x648 with 1 Axes>"
      ]
     },
     "metadata": {},
     "output_type": "display_data"
    }
   ],
   "source": [
    "ax = sns.histplot(np.sqrt(highed['income_2009']), bins=50)\n",
    "ax.set(xlabel='2009 Squareroot Adjusted Income', ylabel='Count')\n",
    "plt.title('Distribution of Squareroot Transformed Salary Data')\n",
    "plt.show()"
   ]
  },
  {
   "cell_type": "markdown",
   "id": "german-unemployment",
   "metadata": {},
   "source": [
    "This data set was used to take advantage of the groupings per major group that IPUMS raw data provided (as opposed to the cleaned version of the data I have since saved to the `highed` variable)."
   ]
  },
  {
   "cell_type": "code",
   "execution_count": 9,
   "id": "latter-williams",
   "metadata": {},
   "outputs": [
    {
     "data": {
      "image/png": "[encoded data removed]",
      "text/plain": [
       "<Figure size 1152x648 with 1 Axes>"
      ]
     },
     "metadata": {},
     "output_type": "display_data"
    },
    {
     "data": {
      "image/png": "[encoded data removed]",
      "text/plain": [
       "<Figure size 1152x648 with 1 Axes>"
      ]
     },
     "metadata": {},
     "output_type": "display_data"
    }
   ],
   "source": [
    "path1 = '/Users/lucasnelson/Desktop/University of Illinois/'\n",
    "path2 = 'Junior/SP21/ECON 490/proj_final/highered_00001.csv'\n",
    "highed2 = pd.read_csv(path1 + path2)\n",
    "violin_plots = ['GENDER', 'NBAMEMG']\n",
    "highed2['income_2009'] = highed2['SALARY'] * highed2['CPI2009C']\n",
    "for i, col in enumerate(violin_plots):\n",
    "    title = f'{col.title()} vs 2009 Square Root Adjusted Income'\n",
    "    plt.figure(i)\n",
    "    ax = sns.violinplot(x=highed2[col], y=np.sqrt(highed2['income_2009'])).set_title(title)"
   ]
  },
  {
   "cell_type": "markdown",
   "id": "african-spanking",
   "metadata": {},
   "source": [
    "---\n",
    "## Inference"
   ]
  },
  {
   "cell_type": "markdown",
   "id": "unknown-priest",
   "metadata": {},
   "source": [
    "Building a simple linear regression model using parameter grid updating and the `statsmodel.api` package (although this portion of the Inference section is not used in the final report)."
   ]
  },
  {
   "cell_type": "code",
   "execution_count": 10,
   "id": "preliminary-borough",
   "metadata": {},
   "outputs": [],
   "source": [
    "import numpy as np\n",
    "\n",
    "y = np.sqrt(highed['income_2009'])\n",
    "x = highed.drop(columns=['income_2009', 'salary', 'cpi2009c', 'age', 'weight', 'year', 'biryr'])\n",
    "x.sort_index(axis='columns', inplace=True)\n",
    "\n",
    "x_train, x_test, y_train, y_test = train_test_split(x, y,\n",
    "                                                    train_size=2/3,\n",
    "                                                    random_state=490)\n",
    "\n",
    "x_train_std = x_train.apply(lambda x: (x - np.mean(x))/np.std(x), axis = 0)\n",
    "x_test_std  = x_test.apply(lambda x: (x - np.mean(x))/np.std(x), axis = 0)\n",
    "\n",
    "x_train_std = sm.add_constant(x_train_std)\n",
    "x_test_std  = sm.add_constant(x_test_std)\n",
    "x_train     = sm.add_constant(x_train)\n",
    "x_test      = sm.add_constant(x_test)"
   ]
  },
  {
   "cell_type": "markdown",
   "id": "suspected-electric",
   "metadata": {},
   "source": [
    "#### Elastic Net"
   ]
  },
  {
   "cell_type": "code",
   "execution_count": 11,
   "id": "cathedral-miller",
   "metadata": {},
   "outputs": [],
   "source": [
    "fit = sm.OLS(y_train, x_train)"
   ]
  },
  {
   "cell_type": "code",
   "execution_count": 12,
   "id": "atomic-jaguar",
   "metadata": {},
   "outputs": [
    {
     "data": {
      "text/plain": [
       "{'alpha': 1e-05, 'l1_ratio': 0.1}"
      ]
     },
     "execution_count": 12,
     "metadata": {},
     "output_type": "execute_result"
    }
   ],
   "source": [
    "param_grid = {'alpha': 10.**np.arange(-10, -1, 1), \n",
    "              'l1_ratio': np.arange(0, 1, 0.1)}\n",
    "\n",
    "cv_enet = lm.ElasticNet(fit_intercept = False, normalize = False,\n",
    "                        random_state = 490)\n",
    "grid_search = GridSearchCV(cv_enet, param_grid, cv = 5,\n",
    "                         scoring = 'neg_root_mean_squared_error',\n",
    "                          n_jobs = -1)\n",
    "grid_search.fit(x_train_std, y_train)\n",
    "best = grid_search.best_params_\n",
    "best"
   ]
  },
  {
   "cell_type": "code",
   "execution_count": 13,
   "id": "respected-racing",
   "metadata": {},
   "outputs": [
    {
     "name": "stdout",
     "output_type": "stream",
     "text": [
      "                  Results: Ordinary least squares\n",
      "====================================================================\n",
      "Model:              OLS              Adj. R-squared:     0.185      \n",
      "Dependent Variable: income_2009      AIC:                927653.6350\n",
      "Date:               2021-05-14 22:03 BIC:                927822.1130\n",
      "No. Observations:   85810            Log-Likelihood:     -4.6381e+05\n",
      "Df Model:           17               F-statistic:        1143.      \n",
      "Df Residuals:       85792            Prob (F-statistic): 0.00       \n",
      "R-squared:          0.185            Scale:              2900.0     \n",
      "---------------------------------------------------------------------\n",
      "             Coef.    Std.Err.      t      P>|t|    [0.025    0.975] \n",
      "---------------------------------------------------------------------\n",
      "const       205.7552    0.1838  1119.2330  0.0000  205.3949  206.1155\n",
      "asian         4.2102    0.2273    18.5242  0.0000    3.7647    4.6557\n",
      "bach_csci     8.2833    0.2229    37.1675  0.0000    7.8465    8.7201\n",
      "bach_econ     5.3529    0.2030    26.3755  0.0000    4.9551    5.7507\n",
      "bach_engr    18.8902    0.2643    71.4713  0.0000   18.3721   19.4082\n",
      "bach_mgmt     3.3816    0.1874    18.0489  0.0000    3.0144    3.7488\n",
      "bach_scnc    -0.8673    0.2197    -3.9468  0.0001   -1.2980   -0.4366\n",
      "bach_ssci    -2.1157    0.2474    -8.5520  0.0000   -2.6005   -1.6308\n",
      "gender       -3.9822    0.1954   -20.3757  0.0000   -4.3653   -3.5992\n",
      "high_mast     6.1112    0.1947    31.3956  0.0000    5.7297    6.4927\n",
      "high_phdd     3.1789    0.1858    17.1087  0.0000    2.8148    3.5431\n",
      "high_prof     8.5045    0.1884    45.1499  0.0000    8.1353    8.8737\n",
      "lfp          -2.9642    0.3191    -9.2908  0.0000   -3.5896   -2.3389\n",
      "lfp_delta    -0.4212    0.2678    -1.5724  0.1159   -0.9461    0.1038\n",
      "minority     -2.1400    0.2160    -9.9097  0.0000   -2.5633   -1.7167\n",
      "ocedrlp       5.8730    0.1945    30.2004  0.0000    5.4918    6.2541\n",
      "urate        -1.6415    0.2552    -6.4310  0.0000   -2.1418   -1.1412\n",
      "usctz         3.3518    0.2084    16.0867  0.0000    2.9434    3.7602\n",
      "--------------------------------------------------------------------\n",
      "Omnibus:             3642.114       Durbin-Watson:          2.011   \n",
      "Prob(Omnibus):       0.000          Jarque-Bera (JB):       6961.833\n",
      "Skew:                -0.325         Prob(JB):               0.000   \n",
      "Kurtosis:            4.235          Condition No.:          3       \n",
      "====================================================================\n",
      "\n"
     ]
    }
   ],
   "source": [
    "ols_model = sm.OLS(y_train, x_train_std)\n",
    "ols_result = ols_model.fit()\n",
    "fit_enet = ols_model.fit_regularized(alpha = best['alpha'], L1_wt = best['l1_ratio'])\n",
    "final = sm.regression.linear_model.OLSResults(ols_model, \n",
    "                                              fit_enet.params,\n",
    "                                              ols_result.normalized_cov_params)\n",
    "\n",
    "print(final.summary2())"
   ]
  },
  {
   "cell_type": "markdown",
   "id": "finnish-asian",
   "metadata": {},
   "source": [
    "#### statsmodel.api"
   ]
  },
  {
   "cell_type": "code",
   "execution_count": 14,
   "id": "fresh-hanging",
   "metadata": {},
   "outputs": [
    {
     "name": "stdout",
     "output_type": "stream",
     "text": [
      "                  Results: Ordinary least squares\n",
      "====================================================================\n",
      "Model:              OLS              Adj. R-squared:     0.185      \n",
      "Dependent Variable: income_2009      AIC:                927653.6349\n",
      "Date:               2021-05-14 22:03 BIC:                927822.1129\n",
      "No. Observations:   85810            Log-Likelihood:     -4.6381e+05\n",
      "Df Model:           17               F-statistic:        1143.      \n",
      "Df Residuals:       85792            Prob (F-statistic): 0.00       \n",
      "R-squared:          0.185            Scale:              2900.0     \n",
      "---------------------------------------------------------------------\n",
      "              Coef.    Std.Err.     t      P>|t|    [0.025    0.975] \n",
      "---------------------------------------------------------------------\n",
      "const        328.4557   17.4791   18.7913  0.0000  294.1968  362.7146\n",
      "asian         12.4678    0.6730   18.5245  0.0000   11.1486   13.7869\n",
      "bach_csci     26.8657    0.7228   37.1688  0.0000   25.4490   28.2824\n",
      "bach_econ     25.5637    0.9692   26.3764  0.0000   23.6641   27.4633\n",
      "bach_engr     40.1306    0.5615   71.4730  0.0000   39.0302   41.2311\n",
      "bach_mgmt     39.6752    2.1981   18.0494  0.0000   35.3668   43.9835\n",
      "bach_scnc     -2.8974    0.7343   -3.9460  0.0001   -4.3365   -1.4582\n",
      "bach_ssci     -5.0286    0.5881   -8.5509  0.0000   -6.1812   -3.8759\n",
      "gender        -7.9863    0.3920  -20.3755  0.0000   -8.7546   -7.2181\n",
      "high_mast     13.9626    0.4447   31.3960  0.0000   13.0909   14.8342\n",
      "high_phdd     33.2643    1.9443   17.1089  0.0000   29.4536   37.0751\n",
      "high_prof     56.9974    1.2624   45.1505  0.0000   54.5231   59.4717\n",
      "lfp           -2.3739    0.2555   -9.2912  0.0000   -2.8747   -1.8731\n",
      "lfp_delta     -9.0482    5.7549   -1.5723  0.1159  -20.3277    2.2312\n",
      "minority      -4.4165    0.4457   -9.9099  0.0000   -5.2900   -3.5430\n",
      "ocedrlp        7.6680    0.2539   30.2005  0.0000    7.1703    8.1656\n",
      "urate         -1.0430    0.1622   -6.4313  0.0000   -1.3609   -0.7252\n",
      "usctz         12.4770    0.7756   16.0872  0.0000   10.9569   13.9972\n",
      "--------------------------------------------------------------------\n",
      "Omnibus:             3642.121       Durbin-Watson:          2.011   \n",
      "Prob(Omnibus):       0.000          Jarque-Bera (JB):       6961.858\n",
      "Skew:                -0.325         Prob(JB):               0.000   \n",
      "Kurtosis:            4.235          Condition No.:          6403    \n",
      "====================================================================\n",
      "* The condition number is large (6e+03). This might indicate\n",
      "strong multicollinearity or other numerical problems.\n"
     ]
    }
   ],
   "source": [
    "fit_sm = sm.OLS(y_train, x_train).fit()\n",
    "print(fit_sm.summary2())"
   ]
  },
  {
   "cell_type": "markdown",
   "id": "worse-transmission",
   "metadata": {},
   "source": [
    "---\n",
    "## Prediction"
   ]
  },
  {
   "cell_type": "markdown",
   "id": "unnecessary-whale",
   "metadata": {},
   "source": [
    "Creating mean squared error scores for all prediction related models:\n",
    "* null model\n",
    "* AdaBoost model\n",
    "* gradient boosting model\n",
    "* extreme gradient boosting model"
   ]
  },
  {
   "cell_type": "markdown",
   "id": "logical-salmon",
   "metadata": {},
   "source": [
    "#### Null Model"
   ]
  },
  {
   "cell_type": "code",
   "execution_count": 15,
   "id": "right-campus",
   "metadata": {},
   "outputs": [
    {
     "data": {
      "text/plain": [
       "3539.2258748513923"
      ]
     },
     "execution_count": 15,
     "metadata": {},
     "output_type": "execute_result"
    }
   ],
   "source": [
    "rmse_null = rmse(np.mean(y_train), y_test)\n",
    "mse_null  = rmse_null ** 2\n",
    "mse_null"
   ]
  },
  {
   "cell_type": "markdown",
   "id": "decent-moisture",
   "metadata": {},
   "source": [
    "#### AdaBoost Model"
   ]
  },
  {
   "cell_type": "code",
   "execution_count": 16,
   "id": "automated-workplace",
   "metadata": {},
   "outputs": [
    {
     "data": {
      "text/plain": [
       "AdaBoostRegressor(base_estimator=DecisionTreeRegressor(max_depth=1),\n",
       "                  learning_rate=0.5, n_estimators=200)"
      ]
     },
     "execution_count": 16,
     "metadata": {},
     "output_type": "execute_result"
    }
   ],
   "source": [
    "reg_ada = AdaBoostRegressor(base_estimator = DecisionTreeRegressor(max_depth = 1),\n",
    "                 n_estimators = 200,\n",
    "                 learning_rate = 0.5)\n",
    "reg_ada.fit(x_train, y_train)"
   ]
  },
  {
   "cell_type": "code",
   "execution_count": 17,
   "id": "linear-supervision",
   "metadata": {},
   "outputs": [
    {
     "name": "stdout",
     "output_type": "stream",
     "text": [
      "CPU times: user 7.87 s, sys: 695 ms, total: 8.56 s\n",
      "Wall time: 2min 51s\n"
     ]
    },
    {
     "data": {
      "text/plain": [
       "{'learning_rate': 1e-06, 'n_estimators': 75}"
      ]
     },
     "execution_count": 17,
     "metadata": {},
     "output_type": "execute_result"
    }
   ],
   "source": [
    "%%time\n",
    "\n",
    "param_grid = {\n",
    "    'n_estimators': [15, 25, 50, 75],\n",
    "    'learning_rate': 10.**np.arange(-6, -2),\n",
    "}\n",
    "\n",
    "ada_cv = AdaBoostRegressor(base_estimator = DecisionTreeRegressor(max_depth = 1),\n",
    "                          random_state=490)\n",
    "\n",
    "grid_search = GridSearchCV(ada_cv, param_grid,\n",
    "                          cv = 5,\n",
    "                          scoring = 'r2',\n",
    "                          n_jobs = -1).fit(x_train, y_train)\n",
    "\n",
    "best = grid_search.best_params_\n",
    "best"
   ]
  },
  {
   "cell_type": "code",
   "execution_count": 18,
   "id": "considered-arizona",
   "metadata": {},
   "outputs": [
    {
     "data": {
      "text/plain": [
       "3221.690325370834"
      ]
     },
     "execution_count": 18,
     "metadata": {},
     "output_type": "execute_result"
    }
   ],
   "source": [
    "reg_ada = AdaBoostRegressor(base_estimator = DecisionTreeRegressor(max_depth = 1),\n",
    "                            random_state=490,\n",
    "                            n_estimators = best['n_estimators'],\n",
    "                            learning_rate = best['learning_rate'])\n",
    "\n",
    "reg_ada.fit(x_train, y_train)\n",
    "\n",
    "mse_ada = mean_squared_error(y_test, reg_ada.predict(x_test), squared=True)\n",
    "mse_ada"
   ]
  },
  {
   "cell_type": "markdown",
   "id": "amateur-aviation",
   "metadata": {},
   "source": [
    "#### Gradient Boosting Model"
   ]
  },
  {
   "cell_type": "code",
   "execution_count": 26,
   "id": "collect-print",
   "metadata": {
    "scrolled": true
   },
   "outputs": [
    {
     "name": "stdout",
     "output_type": "stream",
     "text": [
      "      Iter       Train Loss   Remaining Time \n",
      "         1        3474.2123           27.27s\n",
      "         2        3406.6775           27.63s\n",
      "         3        3350.6265           25.29s\n",
      "         4        3303.4743           23.46s\n",
      "         5        3263.6779           23.73s\n",
      "         6        3230.1873           23.42s\n",
      "         7        3197.6995           22.30s\n",
      "         8        3171.8428           21.75s\n",
      "         9        3149.7973           20.92s\n",
      "        10        3127.9233           20.84s\n",
      "        11        3110.4985           20.87s\n",
      "        12        3094.1886           20.29s\n",
      "        13        3080.3467           19.85s\n",
      "        14        3066.5330           19.75s\n",
      "        15        3054.6436           19.40s\n",
      "        16        3043.6150           18.98s\n",
      "        17        3033.0609           18.95s\n",
      "        18        3023.4924           18.77s\n",
      "        19        3015.0167           18.48s\n",
      "        20        3006.8353           18.45s\n",
      "        21        2999.7097           18.16s\n",
      "        22        2992.8484           17.98s\n",
      "        23        2986.1182           18.07s\n",
      "        24        2979.6971           17.93s\n",
      "        25        2973.6653           17.66s\n",
      "        26        2968.3351           17.51s\n",
      "        27        2963.2869           17.33s\n",
      "        28        2958.4400           17.10s\n",
      "        29        2953.7557           16.96s\n",
      "        30        2949.3464           16.77s\n",
      "        31        2943.3607           16.58s\n",
      "        32        2939.2437           16.43s\n",
      "        33        2935.5758           16.29s\n",
      "        34        2930.5058           16.10s\n",
      "        35        2927.3878           16.23s\n",
      "        36        2924.3912           16.16s\n",
      "        37        2920.9930           16.01s\n",
      "        38        2917.9391           15.90s\n",
      "        39        2915.4160           15.81s\n",
      "        40        2912.9855           15.69s\n",
      "        41        2910.0935           15.58s\n",
      "        42        2905.8422           15.43s\n",
      "        43        2903.1619           15.27s\n",
      "        44        2901.0073           15.17s\n",
      "        45        2898.9372           15.06s\n",
      "        46        2896.7446           15.06s\n",
      "        47        2894.6013           15.21s\n",
      "        48        2891.4124           15.98s\n",
      "        49        2888.0541           15.81s\n",
      "        50        2886.2189           15.65s\n",
      "        51        2884.5273           15.57s\n",
      "        52        2882.9067           15.41s\n",
      "        53        2880.1899           15.33s\n",
      "        54        2878.6483           15.38s\n",
      "        55        2877.2657           15.22s\n",
      "        56        2875.5698           15.06s\n",
      "        57        2874.2321           14.94s\n",
      "        58        2871.4968           14.79s\n",
      "        59        2870.1798           14.63s\n",
      "        60        2868.8218           14.50s\n",
      "        61        2867.6712           14.35s\n",
      "        62        2865.8090           14.21s\n",
      "        63        2864.6659           14.09s\n",
      "        64        2862.5929           13.94s\n",
      "        65        2861.4806           13.79s\n",
      "        66        2859.5714           13.67s\n",
      "        67        2858.4684           13.53s\n",
      "        68        2857.5068           13.40s\n",
      "        69        2856.0099           13.27s\n",
      "        70        2855.1004           13.14s\n",
      "        71        2853.2519           13.00s\n",
      "        72        2851.5977           12.89s\n",
      "        73        2850.6449           12.75s\n",
      "        74        2849.2223           12.62s\n",
      "        75        2848.4301           12.52s\n",
      "        76        2847.6625           12.39s\n",
      "        77        2845.9237           12.25s\n",
      "        78        2845.1167           12.15s\n",
      "        79        2843.6918           12.03s\n",
      "        80        2842.5856           11.89s\n",
      "        81        2841.8333           11.79s\n",
      "        82        2841.1720           11.68s\n",
      "        83        2840.0693           11.55s\n",
      "        84        2838.7483           11.45s\n",
      "        85        2838.1198           11.34s\n",
      "        86        2836.8085           11.21s\n",
      "        87        2835.8942           11.11s\n",
      "        88        2834.9407           11.00s\n",
      "        89        2834.4133           10.89s\n",
      "        90        2833.7725           10.79s\n",
      "        91        2832.8787           10.68s\n",
      "        92        2832.3849           10.56s\n",
      "        93        2831.3743           10.46s\n",
      "        94        2830.8297           10.35s\n",
      "        95        2830.3487           10.24s\n",
      "        96        2829.4997           10.18s\n",
      "        97        2829.0057           10.07s\n",
      "        98        2828.5742            9.96s\n",
      "        99        2827.8739            9.86s\n",
      "       100        2826.9087            9.75s\n",
      "       101        2826.3459            9.63s\n",
      "       102        2825.9611            9.54s\n",
      "       103        2825.2935            9.42s\n",
      "       104        2824.8608            9.31s\n",
      "       105        2824.1378            9.21s\n",
      "       106        2823.4937            9.10s\n",
      "       107        2822.7784            8.98s\n",
      "       108        2822.3284            8.89s\n",
      "       109        2821.7309            8.78s\n",
      "       110        2821.4201            8.67s\n",
      "       111        2820.8585            8.57s\n",
      "       112        2820.4862            8.47s\n",
      "       113        2820.1176            8.36s\n",
      "       114        2819.8366            8.26s\n",
      "       115        2819.1626            8.15s\n",
      "       116        2818.8894            8.05s\n",
      "       117        2818.4213            7.95s\n",
      "       118        2818.0608            7.84s\n",
      "       119        2817.7472            7.74s\n",
      "       120        2817.2724            7.64s\n",
      "       121        2817.0394            7.53s\n",
      "       122        2816.7650            7.43s\n",
      "       123        2816.4852            7.34s\n",
      "       124        2816.2543            7.24s\n",
      "       125        2815.7531            7.14s\n",
      "       126        2815.3537            7.04s\n",
      "       127        2815.1548            6.94s\n",
      "       128        2814.7376            6.84s\n",
      "       129        2814.1047            6.74s\n",
      "       130        2813.7587            6.64s\n",
      "       131        2813.3945            6.54s\n",
      "       132        2813.1747            6.44s\n",
      "       133        2812.9952            6.35s\n",
      "       134        2812.7644            6.26s\n",
      "       135        2812.2839            6.17s\n",
      "       136        2812.0416            6.07s\n",
      "       137        2811.8740            5.98s\n",
      "       138        2811.6884            5.88s\n",
      "       139        2811.4797            5.78s\n",
      "       140        2811.3139            5.69s\n",
      "       141        2811.0317            5.58s\n",
      "       142        2810.6301            5.48s\n",
      "       143        2810.3456            5.39s\n",
      "       144        2810.0340            5.29s\n",
      "       145        2809.8703            5.19s\n",
      "       146        2809.6833            5.10s\n",
      "       147        2809.5418            5.00s\n",
      "       148        2809.4052            4.91s\n",
      "       149        2809.1538            4.81s\n",
      "       150        2808.8973            4.71s\n",
      "       151        2808.7073            4.62s\n",
      "       152        2808.5656            4.52s\n",
      "       153        2808.4085            4.43s\n",
      "       154        2808.1233            4.33s\n",
      "       155        2808.0133            4.24s\n",
      "       156        2807.7931            4.14s\n",
      "       157        2807.5681            4.04s\n",
      "       158        2807.4449            3.95s\n",
      "       159        2806.9335            3.85s\n",
      "       160        2806.7908            3.76s\n",
      "       161        2806.5839            3.68s\n",
      "       162        2806.3989            3.58s\n",
      "       163        2806.3084            3.48s\n",
      "       164        2806.2066            3.39s\n",
      "       165        2806.0240            3.29s\n",
      "       166        2805.6035            3.20s\n",
      "       167        2805.3788            3.11s\n",
      "       168        2805.2212            3.01s\n",
      "       169        2805.1092            2.91s\n",
      "       170        2804.9439            2.82s\n",
      "       171        2804.8177            2.72s\n",
      "       172        2804.6020            2.63s\n",
      "       173        2804.4254            2.54s\n",
      "       174        2804.3420            2.44s\n",
      "       175        2804.2602            2.35s\n",
      "       176        2804.1677            2.25s\n",
      "       177        2803.8042            2.16s\n",
      "       178        2803.6935            2.06s\n",
      "       179        2803.6241            1.97s\n",
      "       180        2803.4790            1.88s\n",
      "       181        2803.4038            1.78s\n",
      "       182        2803.0925            1.69s\n",
      "       183        2802.9912            1.59s\n",
      "       184        2802.9090            1.50s\n"
     ]
    },
    {
     "name": "stdout",
     "output_type": "stream",
     "text": [
      "       185        2802.7512            1.41s\n",
      "       186        2802.5714            1.31s\n",
      "       187        2802.3457            1.22s\n",
      "       188        2802.2075            1.12s\n",
      "       189        2802.0852            1.03s\n",
      "       190        2801.6430            0.93s\n",
      "       191        2801.5695            0.84s\n",
      "       192        2801.5118            0.75s\n",
      "       193        2801.2578            0.65s\n",
      "       194        2801.1631            0.56s\n",
      "       195        2801.0544            0.47s\n",
      "       196        2800.6983            0.37s\n",
      "       197        2800.6300            0.28s\n",
      "       198        2800.4274            0.19s\n",
      "       199        2800.3007            0.09s\n",
      "       200        2800.1611            0.00s\n"
     ]
    },
    {
     "data": {
      "text/plain": [
       "GradientBoostingRegressor(max_depth=2, n_estimators=200, n_iter_no_change=4,\n",
       "                          random_state=499, validation_fraction=0.125,\n",
       "                          verbose=2)"
      ]
     },
     "execution_count": 26,
     "metadata": {},
     "output_type": "execute_result"
    }
   ],
   "source": [
    "reg_gb = GradientBoostingRegressor(n_estimators = 200,\n",
    "                                  max_depth = 2,\n",
    "                                  learning_rate = 0.1,\n",
    "                                  validation_fraction = 1/8,\n",
    "                                  n_iter_no_change = 4,\n",
    "                                  verbose = 2,\n",
    "                                  random_state = 499)\n",
    "\n",
    "reg_gb.fit(x_train, y_train)"
   ]
  },
  {
   "cell_type": "code",
   "execution_count": 27,
   "id": "declared-understanding",
   "metadata": {},
   "outputs": [
    {
     "data": {
      "text/plain": [
       "2789.4586749017126"
      ]
     },
     "execution_count": 27,
     "metadata": {},
     "output_type": "execute_result"
    }
   ],
   "source": [
    "from sklearn.metrics import mean_squared_error\n",
    "\n",
    "mse_gb = mean_squared_error(y_test, reg_gb.predict(x_test), squared=True)\n",
    "mse_gb"
   ]
  },
  {
   "cell_type": "markdown",
   "id": "exempt-india",
   "metadata": {},
   "source": [
    "#### Extreme Gradient Boosting Model"
   ]
  },
  {
   "cell_type": "code",
   "execution_count": 21,
   "id": "clear-raleigh",
   "metadata": {},
   "outputs": [],
   "source": [
    "x_train_train, x_train_test, y_train_train, y_train_test = train_test_split(x_train, y_train,\n",
    "                                                                            train_size = 4/5,\n",
    "                                                                            random_state = 490)"
   ]
  },
  {
   "cell_type": "code",
   "execution_count": 22,
   "id": "strange-maria",
   "metadata": {
    "scrolled": true
   },
   "outputs": [
    {
     "name": "stdout",
     "output_type": "stream",
     "text": [
      "[0]\tvalidation_0-rmse:193.97310\n",
      "[1]\tvalidation_0-rmse:176.26325\n",
      "[2]\tvalidation_0-rmse:160.49913\n",
      "[3]\tvalidation_0-rmse:146.46492\n",
      "[4]\tvalidation_0-rmse:134.02322\n",
      "[5]\tvalidation_0-rmse:123.02196\n",
      "[6]\tvalidation_0-rmse:113.27793\n",
      "[7]\tvalidation_0-rmse:104.73705\n",
      "[8]\tvalidation_0-rmse:97.27106\n",
      "[9]\tvalidation_0-rmse:90.71945\n",
      "[10]\tvalidation_0-rmse:85.03958\n",
      "[11]\tvalidation_0-rmse:80.14595\n",
      "[12]\tvalidation_0-rmse:75.93383\n",
      "[13]\tvalidation_0-rmse:72.33122\n",
      "[14]\tvalidation_0-rmse:69.26791\n",
      "[15]\tvalidation_0-rmse:66.65652\n",
      "[16]\tvalidation_0-rmse:64.45917\n",
      "[17]\tvalidation_0-rmse:62.62433\n",
      "[18]\tvalidation_0-rmse:61.07471\n",
      "[19]\tvalidation_0-rmse:59.78712\n",
      "[20]\tvalidation_0-rmse:58.70433\n",
      "[21]\tvalidation_0-rmse:57.79762\n",
      "[22]\tvalidation_0-rmse:57.05013\n",
      "[23]\tvalidation_0-rmse:56.42783\n",
      "[24]\tvalidation_0-rmse:55.90191\n",
      "[25]\tvalidation_0-rmse:55.47966\n",
      "[26]\tvalidation_0-rmse:55.11910\n",
      "[27]\tvalidation_0-rmse:54.80412\n",
      "[28]\tvalidation_0-rmse:54.55292\n",
      "[29]\tvalidation_0-rmse:54.33919\n",
      "[30]\tvalidation_0-rmse:54.16164\n",
      "[31]\tvalidation_0-rmse:54.01578\n",
      "[32]\tvalidation_0-rmse:53.88862\n",
      "[33]\tvalidation_0-rmse:53.78570\n",
      "[34]\tvalidation_0-rmse:53.70034\n",
      "[35]\tvalidation_0-rmse:53.61368\n",
      "[36]\tvalidation_0-rmse:53.54305\n",
      "[37]\tvalidation_0-rmse:53.48754\n",
      "[38]\tvalidation_0-rmse:53.43337\n",
      "[39]\tvalidation_0-rmse:53.38678\n",
      "[40]\tvalidation_0-rmse:53.32733\n",
      "[41]\tvalidation_0-rmse:53.28682\n",
      "[42]\tvalidation_0-rmse:53.25157\n",
      "[43]\tvalidation_0-rmse:53.22784\n",
      "[44]\tvalidation_0-rmse:53.19938\n",
      "[45]\tvalidation_0-rmse:53.17186\n",
      "[46]\tvalidation_0-rmse:53.12786\n",
      "[47]\tvalidation_0-rmse:53.10989\n",
      "[48]\tvalidation_0-rmse:53.09224\n",
      "[49]\tvalidation_0-rmse:53.06688\n",
      "[50]\tvalidation_0-rmse:53.02970\n",
      "[51]\tvalidation_0-rmse:53.01110\n",
      "[52]\tvalidation_0-rmse:52.99882\n",
      "[53]\tvalidation_0-rmse:52.98093\n",
      "[54]\tvalidation_0-rmse:52.96900\n",
      "[55]\tvalidation_0-rmse:52.95349\n",
      "[56]\tvalidation_0-rmse:52.92638\n",
      "[57]\tvalidation_0-rmse:52.91523\n",
      "[58]\tvalidation_0-rmse:52.89764\n",
      "[59]\tvalidation_0-rmse:52.87256\n",
      "[60]\tvalidation_0-rmse:52.86081\n",
      "[61]\tvalidation_0-rmse:52.85204\n",
      "[62]\tvalidation_0-rmse:52.82542\n",
      "[63]\tvalidation_0-rmse:52.81615\n",
      "[64]\tvalidation_0-rmse:52.79608\n",
      "[65]\tvalidation_0-rmse:52.78693\n",
      "[66]\tvalidation_0-rmse:52.78014\n",
      "[67]\tvalidation_0-rmse:52.77203\n",
      "[68]\tvalidation_0-rmse:52.76012\n",
      "[69]\tvalidation_0-rmse:52.74470\n",
      "[70]\tvalidation_0-rmse:52.72830\n",
      "[71]\tvalidation_0-rmse:52.71983\n",
      "[72]\tvalidation_0-rmse:52.71131\n",
      "[73]\tvalidation_0-rmse:52.70315\n",
      "[74]\tvalidation_0-rmse:52.69698\n",
      "[75]\tvalidation_0-rmse:52.68510\n",
      "[76]\tvalidation_0-rmse:52.67122\n",
      "[77]\tvalidation_0-rmse:52.66456\n",
      "[78]\tvalidation_0-rmse:52.65614\n",
      "[79]\tvalidation_0-rmse:52.64302\n",
      "[80]\tvalidation_0-rmse:52.63668\n",
      "[81]\tvalidation_0-rmse:52.62655\n",
      "[82]\tvalidation_0-rmse:52.62133\n",
      "[83]\tvalidation_0-rmse:52.60745\n",
      "[84]\tvalidation_0-rmse:52.59978\n",
      "[85]\tvalidation_0-rmse:52.59539\n",
      "[86]\tvalidation_0-rmse:52.58929\n",
      "[87]\tvalidation_0-rmse:52.58462\n",
      "[88]\tvalidation_0-rmse:52.57653\n",
      "[89]\tvalidation_0-rmse:52.57151\n",
      "[90]\tvalidation_0-rmse:52.56649\n",
      "[91]\tvalidation_0-rmse:52.55706\n",
      "[92]\tvalidation_0-rmse:52.54094\n",
      "[93]\tvalidation_0-rmse:52.53539\n",
      "[94]\tvalidation_0-rmse:52.52987\n",
      "[95]\tvalidation_0-rmse:52.51939\n",
      "[96]\tvalidation_0-rmse:52.51503\n",
      "[97]\tvalidation_0-rmse:52.51149\n",
      "[98]\tvalidation_0-rmse:52.50723\n",
      "[99]\tvalidation_0-rmse:52.49634\n",
      "[100]\tvalidation_0-rmse:52.49055\n",
      "[101]\tvalidation_0-rmse:52.48879\n",
      "[102]\tvalidation_0-rmse:52.48670\n",
      "[103]\tvalidation_0-rmse:52.48340\n",
      "[104]\tvalidation_0-rmse:52.47397\n",
      "[105]\tvalidation_0-rmse:52.47205\n",
      "[106]\tvalidation_0-rmse:52.45986\n",
      "[107]\tvalidation_0-rmse:52.45517\n",
      "[108]\tvalidation_0-rmse:52.45158\n",
      "[109]\tvalidation_0-rmse:52.44854\n",
      "[110]\tvalidation_0-rmse:52.44061\n",
      "[111]\tvalidation_0-rmse:52.43866\n",
      "[112]\tvalidation_0-rmse:52.43689\n",
      "[113]\tvalidation_0-rmse:52.43312\n",
      "[114]\tvalidation_0-rmse:52.43110\n",
      "[115]\tvalidation_0-rmse:52.42398\n",
      "[116]\tvalidation_0-rmse:52.41945\n",
      "[117]\tvalidation_0-rmse:52.41759\n",
      "[118]\tvalidation_0-rmse:52.41152\n",
      "[119]\tvalidation_0-rmse:52.40953\n",
      "[120]\tvalidation_0-rmse:52.40041\n",
      "[121]\tvalidation_0-rmse:52.39905\n",
      "[122]\tvalidation_0-rmse:52.39525\n",
      "[123]\tvalidation_0-rmse:52.39327\n",
      "[124]\tvalidation_0-rmse:52.38740\n",
      "[125]\tvalidation_0-rmse:52.38665\n",
      "[126]\tvalidation_0-rmse:52.38456\n",
      "[127]\tvalidation_0-rmse:52.38259\n",
      "[128]\tvalidation_0-rmse:52.37667\n",
      "[129]\tvalidation_0-rmse:52.37544\n",
      "[130]\tvalidation_0-rmse:52.37389\n",
      "[131]\tvalidation_0-rmse:52.36930\n",
      "[132]\tvalidation_0-rmse:52.36612\n",
      "[133]\tvalidation_0-rmse:52.36435\n",
      "[134]\tvalidation_0-rmse:52.35746\n",
      "[135]\tvalidation_0-rmse:52.35551\n",
      "[136]\tvalidation_0-rmse:52.35112\n",
      "[137]\tvalidation_0-rmse:52.34922\n",
      "[138]\tvalidation_0-rmse:52.34862\n",
      "[139]\tvalidation_0-rmse:52.34510\n",
      "[140]\tvalidation_0-rmse:52.34426\n",
      "[141]\tvalidation_0-rmse:52.34368\n",
      "[142]\tvalidation_0-rmse:52.34190\n",
      "[143]\tvalidation_0-rmse:52.33750\n",
      "[144]\tvalidation_0-rmse:52.33356\n",
      "[145]\tvalidation_0-rmse:52.33240\n",
      "[146]\tvalidation_0-rmse:52.33235\n",
      "[147]\tvalidation_0-rmse:52.33150\n",
      "[148]\tvalidation_0-rmse:52.32980\n",
      "[149]\tvalidation_0-rmse:52.32678\n",
      "[150]\tvalidation_0-rmse:52.32637\n",
      "[151]\tvalidation_0-rmse:52.32626\n",
      "[152]\tvalidation_0-rmse:52.32429\n",
      "[153]\tvalidation_0-rmse:52.32251\n",
      "[154]\tvalidation_0-rmse:52.32172\n",
      "[155]\tvalidation_0-rmse:52.32082\n",
      "[156]\tvalidation_0-rmse:52.31900\n",
      "[157]\tvalidation_0-rmse:52.31818\n",
      "[158]\tvalidation_0-rmse:52.31695\n",
      "[159]\tvalidation_0-rmse:52.31211\n",
      "[160]\tvalidation_0-rmse:52.31135\n",
      "[161]\tvalidation_0-rmse:52.30883\n",
      "[162]\tvalidation_0-rmse:52.30810\n",
      "[163]\tvalidation_0-rmse:52.30513\n",
      "[164]\tvalidation_0-rmse:52.30517\n",
      "[165]\tvalidation_0-rmse:52.30505\n",
      "[166]\tvalidation_0-rmse:52.30409\n",
      "[167]\tvalidation_0-rmse:52.30128\n",
      "[168]\tvalidation_0-rmse:52.29952\n",
      "[169]\tvalidation_0-rmse:52.29578\n",
      "[170]\tvalidation_0-rmse:52.29570\n",
      "[171]\tvalidation_0-rmse:52.29321\n",
      "[172]\tvalidation_0-rmse:52.29379\n",
      "[173]\tvalidation_0-rmse:52.29277\n",
      "[174]\tvalidation_0-rmse:52.28838\n",
      "[175]\tvalidation_0-rmse:52.28831\n",
      "[176]\tvalidation_0-rmse:52.28807\n",
      "[177]\tvalidation_0-rmse:52.28720\n",
      "[178]\tvalidation_0-rmse:52.28675\n",
      "[179]\tvalidation_0-rmse:52.28645\n",
      "[180]\tvalidation_0-rmse:52.28658\n",
      "[181]\tvalidation_0-rmse:52.28560\n",
      "[182]\tvalidation_0-rmse:52.28533\n",
      "[183]\tvalidation_0-rmse:52.28190\n",
      "[184]\tvalidation_0-rmse:52.28154\n",
      "[185]\tvalidation_0-rmse:52.28032\n",
      "[186]\tvalidation_0-rmse:52.27694\n",
      "[187]\tvalidation_0-rmse:52.27618\n",
      "[188]\tvalidation_0-rmse:52.27596\n",
      "[189]\tvalidation_0-rmse:52.27599\n",
      "[190]\tvalidation_0-rmse:52.27308\n",
      "[191]\tvalidation_0-rmse:52.27259\n",
      "[192]\tvalidation_0-rmse:52.27111\n",
      "[193]\tvalidation_0-rmse:52.26980\n",
      "[194]\tvalidation_0-rmse:52.26906\n",
      "[195]\tvalidation_0-rmse:52.26873\n",
      "[196]\tvalidation_0-rmse:52.26719\n",
      "[197]\tvalidation_0-rmse:52.26664\n",
      "[198]\tvalidation_0-rmse:52.26552\n",
      "[199]\tvalidation_0-rmse:52.26538\n"
     ]
    },
    {
     "data": {
      "text/plain": [
       "XGBRegressor(base_score=0.5, booster='gbtree', colsample_bylevel=1,\n",
       "             colsample_bynode=1, colsample_bytree=1, gamma=0, gpu_id=-1,\n",
       "             importance_type='gain', interaction_constraints='',\n",
       "             learning_rate=0.1, max_delta_step=0, max_depth=2,\n",
       "             min_child_weight=1, missing=nan, monotone_constraints='()',\n",
       "             n_estimators=200, n_jobs=4, num_parallel_tree=1, random_state=490,\n",
       "             reg_alpha=0, reg_lambda=1, scale_pos_weight=1, subsample=1,\n",
       "             tree_method='exact', validate_parameters=1, verbosity=None)"
      ]
     },
     "execution_count": 22,
     "metadata": {},
     "output_type": "execute_result"
    }
   ],
   "source": [
    "reg_xgb = xgb.XGBRegressor(n_estimators = 200,\n",
    "                          max_depth = 2,\n",
    "                          learning_rate = 0.1,\n",
    "                          random_state = 490)\n",
    "\n",
    "reg_xgb.fit(x_train_train, y_train_train,\n",
    "           eval_set = [(x_train_test, y_train_test)],\n",
    "           early_stopping_rounds = 4)"
   ]
  },
  {
   "cell_type": "code",
   "execution_count": 23,
   "id": "alpha-collaboration",
   "metadata": {
    "scrolled": false
   },
   "outputs": [
    {
     "data": {
      "text/plain": [
       "2788.800799185251"
      ]
     },
     "execution_count": 23,
     "metadata": {},
     "output_type": "execute_result"
    }
   ],
   "source": [
    "mse_xgb = mean_squared_error(y_test, reg_xgb.predict(x_test), squared=True)\n",
    "mse_xgb"
   ]
  }
 ],
 "metadata": {
  "kernelspec": {
   "display_name": "Python 3",
   "language": "python",
   "name": "python3"
  },
  "language_info": {
   "codemirror_mode": {
    "name": "ipython",
    "version": 3
   },
   "file_extension": ".py",
   "mimetype": "text/x-python",
   "name": "python",
   "nbconvert_exporter": "python",
   "pygments_lexer": "ipython3",
   "version": "3.8.5"
  }
 },
 "nbformat": 4,
 "nbformat_minor": 5
}
